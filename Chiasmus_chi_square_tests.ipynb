{
  "nbformat": 4,
  "nbformat_minor": 0,
  "metadata": {
    "colab": {
      "provenance": [],
      "authorship_tag": "ABX9TyN8gjNPwRFs0N+2TlQnndDx",
      "include_colab_link": true
    },
    "kernelspec": {
      "name": "python3",
      "display_name": "Python 3"
    },
    "language_info": {
      "name": "python"
    }
  },
  "cells": [
    {
      "cell_type": "markdown",
      "metadata": {
        "id": "view-in-github",
        "colab_type": "text"
      },
      "source": [
        "<a href=\"https://colab.research.google.com/github/lmknijn/jeweled_style/blob/main/Chiasmus_chi_square_tests.ipynb\" target=\"_parent\"><img src=\"https://colab.research.google.com/assets/colab-badge.svg\" alt=\"Open In Colab\"/></a>"
      ]
    },
    {
      "cell_type": "code",
      "execution_count": 3,
      "metadata": {
        "id": "JRVgkDUEGX-p"
      },
      "outputs": [],
      "source": [
        "from scipy import *"
      ]
    },
    {
      "cell_type": "code",
      "source": [
        "from scipy.stats import chi2_contingency as chi2"
      ],
      "metadata": {
        "id": "68fEWlEWHDUw"
      },
      "execution_count": 4,
      "outputs": []
    },
    {
      "cell_type": "code",
      "source": [
        "15693 - 1362"
      ],
      "metadata": {
        "colab": {
          "base_uri": "https://localhost:8080/"
        },
        "id": "-gTLJVE3HpDL",
        "outputId": "5c3c8d54-8d87-4246-feca-5a94fe54f53e"
      },
      "execution_count": null,
      "outputs": [
        {
          "output_type": "execute_result",
          "data": {
            "text/plain": [
              "14331"
            ]
          },
          "metadata": {},
          "execution_count": 5
        }
      ]
    },
    {
      "cell_type": "code",
      "source": [
        "5835 - 392"
      ],
      "metadata": {
        "colab": {
          "base_uri": "https://localhost:8080/"
        },
        "id": "j1nb5WYyHQQQ",
        "outputId": "abdd5e6e-e10a-4c30-f396-0da720d3cfee"
      },
      "execution_count": null,
      "outputs": [
        {
          "output_type": "execute_result",
          "data": {
            "text/plain": [
              "5443"
            ]
          },
          "metadata": {},
          "execution_count": 4
        }
      ]
    },
    {
      "cell_type": "code",
      "source": [
        "8777 - 777"
      ],
      "metadata": {
        "colab": {
          "base_uri": "https://localhost:8080/"
        },
        "id": "Xri18H8uHe0g",
        "outputId": "dbd7a71b-292f-47a3-96a4-8d845d7c94b0"
      },
      "execution_count": null,
      "outputs": [
        {
          "output_type": "execute_result",
          "data": {
            "text/plain": [
              "8000"
            ]
          },
          "metadata": {},
          "execution_count": 6
        }
      ]
    },
    {
      "cell_type": "code",
      "source": [
        "691 - 94"
      ],
      "metadata": {
        "colab": {
          "base_uri": "https://localhost:8080/"
        },
        "id": "d-DsthuxHwdg",
        "outputId": "44b220b9-79ed-40fe-d6c3-60be4ff5afed"
      },
      "execution_count": null,
      "outputs": [
        {
          "output_type": "execute_result",
          "data": {
            "text/plain": [
              "597"
            ]
          },
          "metadata": {},
          "execution_count": 7
        }
      ]
    },
    {
      "cell_type": "code",
      "source": [
        "22426 - 3700"
      ],
      "metadata": {
        "colab": {
          "base_uri": "https://localhost:8080/"
        },
        "id": "CWOUY9k5HzKG",
        "outputId": "c18f3402-1e8c-4549-fb62-74804df8e8d2"
      },
      "execution_count": null,
      "outputs": [
        {
          "output_type": "execute_result",
          "data": {
            "text/plain": [
              "18726"
            ]
          },
          "metadata": {},
          "execution_count": 8
        }
      ]
    },
    {
      "cell_type": "code",
      "source": [
        "il = [1362, 14331]\n",
        "ar = [392, 5443]\n",
        "ph = [777, 8000]\n",
        "triph = [94, 597]\n",
        "d = [3700, 18726]\n",
        "\n",
        "chi2([il, ar, ph, triph, d])"
      ],
      "metadata": {
        "colab": {
          "base_uri": "https://localhost:8080/"
        },
        "id": "9FIODwCuH5En",
        "outputId": "19b36459-cee5-4ea7-89ce-ac90fa820471"
      },
      "execution_count": 5,
      "outputs": [
        {
          "output_type": "execute_result",
          "data": {
            "text/plain": [
              "Chi2ContingencyResult(statistic=np.float64(840.2787479480941), pvalue=np.float64(1.4461525243306757e-180), dof=4, expected_freq=array([[ 1858.00278911, 13834.99721089],\n",
              "       [  690.84599978,  5144.15400022],\n",
              "       [ 1039.16972408,  7737.83027592],\n",
              "       [   81.81226835,   609.18773165],\n",
              "       [ 2655.16921867, 19770.83078133]]))"
            ]
          },
          "metadata": {},
          "execution_count": 5
        }
      ]
    },
    {
      "cell_type": "code",
      "source": [
        "chi2([il, ar])"
      ],
      "metadata": {
        "colab": {
          "base_uri": "https://localhost:8080/"
        },
        "id": "c3Mbdtn8SOkk",
        "outputId": "d7571cf7-99d4-4cfe-ed3a-43e7faf9c1d4"
      },
      "execution_count": 6,
      "outputs": [
        {
          "output_type": "execute_result",
          "data": {
            "text/plain": [
              "Chi2ContingencyResult(statistic=np.float64(21.594153189157357), pvalue=np.float64(3.3687721613859857e-06), dof=1, expected_freq=array([[ 1278.59169454, 14414.40830546],\n",
              "       [  475.40830546,  5359.59169454]]))"
            ]
          },
          "metadata": {},
          "execution_count": 6
        }
      ]
    },
    {
      "cell_type": "code",
      "source": [
        "chi2([il, ph])"
      ],
      "metadata": {
        "colab": {
          "base_uri": "https://localhost:8080/"
        },
        "id": "Wsc-GlorS6C_",
        "outputId": "b9a2da06-4af6-4d47-a12b-99e8d0b1974b"
      },
      "execution_count": 7,
      "outputs": [
        {
          "output_type": "execute_result",
          "data": {
            "text/plain": [
              "Chi2ContingencyResult(statistic=np.float64(0.19157153040382846), pvalue=np.float64(0.6616118524633852), dof=1, expected_freq=array([[ 1371.77470372, 14321.22529628],\n",
              "       [  767.22529628,  8009.77470372]]))"
            ]
          },
          "metadata": {},
          "execution_count": 7
        }
      ]
    },
    {
      "cell_type": "code",
      "source": [
        "chi2([il, triph])"
      ],
      "metadata": {
        "colab": {
          "base_uri": "https://localhost:8080/"
        },
        "id": "IvopdhrlTDzd",
        "outputId": "10275f1a-783e-4bea-9e40-d77476dd23dc"
      },
      "execution_count": 8,
      "outputs": [
        {
          "output_type": "execute_result",
          "data": {
            "text/plain": [
              "Chi2ContingencyResult(statistic=np.float64(19.21884546606952), pvalue=np.float64(1.1655704330092202e-05), dof=1, expected_freq=array([[ 1394.59277344, 14298.40722656],\n",
              "       [   61.40722656,   629.59277344]]))"
            ]
          },
          "metadata": {},
          "execution_count": 8
        }
      ]
    },
    {
      "cell_type": "code",
      "source": [
        "chi2([il, d])"
      ],
      "metadata": {
        "colab": {
          "base_uri": "https://localhost:8080/"
        },
        "id": "dQbYs2_uTIMm",
        "outputId": "a400e39d-b704-4986-b60a-ff5ea6a14386"
      },
      "execution_count": 9,
      "outputs": [
        {
          "output_type": "execute_result",
          "data": {
            "text/plain": [
              "Chi2ContingencyResult(statistic=np.float64(489.5416905791891), pvalue=np.float64(1.792813526465904e-108), dof=1, expected_freq=array([[ 2083.94674572, 13609.05325428],\n",
              "       [ 2978.05325428, 19447.94674572]]))"
            ]
          },
          "metadata": {},
          "execution_count": 9
        }
      ]
    },
    {
      "cell_type": "code",
      "source": [
        "chi2([ar, ph])"
      ],
      "metadata": {
        "colab": {
          "base_uri": "https://localhost:8080/"
        },
        "id": "O6CgJoL4TMoj",
        "outputId": "39627266-cac8-4b0e-bfee-015e0fa21054"
      },
      "execution_count": 10,
      "outputs": [
        {
          "output_type": "execute_result",
          "data": {
            "text/plain": [
              "Chi2ContingencyResult(statistic=np.float64(21.408964432216845), pvalue=np.float64(3.7103235920661604e-06), dof=1, expected_freq=array([[ 466.81597317, 5368.18402683],\n",
              "       [ 702.18402683, 8074.81597317]]))"
            ]
          },
          "metadata": {},
          "execution_count": 10
        }
      ]
    },
    {
      "cell_type": "code",
      "source": [
        "chi2([ar, triph])"
      ],
      "metadata": {
        "colab": {
          "base_uri": "https://localhost:8080/"
        },
        "id": "ecTi_X-xTQp9",
        "outputId": "b9db15d8-22ca-4ac1-8ef5-1c988640d8f0"
      },
      "execution_count": 11,
      "outputs": [
        {
          "output_type": "execute_result",
          "data": {
            "text/plain": [
              "Chi2ContingencyResult(statistic=np.float64(41.50311680984137), pvalue=np.float64(1.1768315209561912e-10), dof=1, expected_freq=array([[ 434.54030034, 5400.45969966],\n",
              "       [  51.45969966,  639.54030034]]))"
            ]
          },
          "metadata": {},
          "execution_count": 11
        }
      ]
    },
    {
      "cell_type": "code",
      "source": [
        "chi2([ar, d])"
      ],
      "metadata": {
        "colab": {
          "base_uri": "https://localhost:8080/"
        },
        "id": "PuGjf-LZTUUV",
        "outputId": "711f6d29-a2eb-44b7-e503-8b77b09af143"
      },
      "execution_count": 12,
      "outputs": [
        {
          "output_type": "execute_result",
          "data": {
            "text/plain": [
              "Chi2ContingencyResult(statistic=np.float64(356.9108185423646), pvalue=np.float64(1.3251110809172722e-79), dof=1, expected_freq=array([[  844.86819292,  4990.13180708],\n",
              "       [ 3247.13180708, 19178.86819292]]))"
            ]
          },
          "metadata": {},
          "execution_count": 12
        }
      ]
    },
    {
      "cell_type": "code",
      "source": [
        "chi2([ph, triph])"
      ],
      "metadata": {
        "colab": {
          "base_uri": "https://localhost:8080/"
        },
        "id": "46LUroDZTXuc",
        "outputId": "e9098bb7-3cad-49d3-f3eb-7021da9f448f"
      },
      "execution_count": 13,
      "outputs": [
        {
          "output_type": "execute_result",
          "data": {
            "text/plain": [
              "Chi2ContingencyResult(statistic=np.float64(16.744011703721117), pvalue=np.float64(4.277706131169923e-05), dof=1, expected_freq=array([[ 807.43208703, 7969.56791297],\n",
              "       [  63.56791297,  627.43208703]]))"
            ]
          },
          "metadata": {},
          "execution_count": 13
        }
      ]
    },
    {
      "cell_type": "code",
      "source": [
        "chi2([ph, d])"
      ],
      "metadata": {
        "colab": {
          "base_uri": "https://localhost:8080/"
        },
        "id": "jCX0wU8oTcYL",
        "outputId": "eafda6dc-3b2e-451a-e11d-7fdd3a971527"
      },
      "execution_count": 14,
      "outputs": [
        {
          "output_type": "execute_result",
          "data": {
            "text/plain": [
              "Chi2ContingencyResult(statistic=np.float64(299.4632947051949), pvalue=np.float64(4.3122280494631115e-67), dof=1, expected_freq=array([[ 1259.32214851,  7517.67785149],\n",
              "       [ 3217.67785149, 19208.32214851]]))"
            ]
          },
          "metadata": {},
          "execution_count": 14
        }
      ]
    },
    {
      "cell_type": "code",
      "source": [
        "chi2([triph, d])"
      ],
      "metadata": {
        "colab": {
          "base_uri": "https://localhost:8080/"
        },
        "id": "VWElpogKTif-",
        "outputId": "9475e5dd-eb3c-4998-c3c4-5d2e2cb72c1a"
      },
      "execution_count": 15,
      "outputs": [
        {
          "output_type": "execute_result",
          "data": {
            "text/plain": [
              "Chi2ContingencyResult(statistic=np.float64(3.8876429585130814), pvalue=np.float64(0.04864264511815449), dof=1, expected_freq=array([[  113.40805468,   577.59194532],\n",
              "       [ 3680.59194532, 18745.40805468]]))"
            ]
          },
          "metadata": {},
          "execution_count": 15
        }
      ]
    }
  ]
}